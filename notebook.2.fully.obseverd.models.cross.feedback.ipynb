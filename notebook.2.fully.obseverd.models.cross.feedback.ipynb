{
 "cells": [
  {
   "cell_type": "markdown",
   "id": "stuffed-warrior",
   "metadata": {},
   "source": [
    "# Spiking Neural  Network (SNN): A probabilistic Model\n",
    "> In the notebook, we add a cross feedback between two neurons.\n",
    "You can find the introduction in the [notebook.1](./notebook.1.fully.obseverd.models.ipynb) ."
   ]
  },
  {
   "cell_type": "markdown",
   "id": "early-ivory",
   "metadata": {},
   "source": [
    "# Loading packages"
   ]
  },
  {
   "cell_type": "code",
   "execution_count": 1,
   "id": "golden-dragon",
   "metadata": {
    "ExecuteTime": {
     "end_time": "2021-05-31T09:10:55.285947Z",
     "start_time": "2021-05-31T09:10:54.732942Z"
    }
   },
   "outputs": [],
   "source": [
    "%matplotlib inline\n",
    "\n",
    "from matplotlib import pyplot as plt\n",
    "import numpy as np\n",
    "from scipy.stats import bernoulli\n",
    "from multiprocessing import Pool\n",
    "from matplotlib.gridspec import GridSpec\n",
    "\n",
    "import warnings\n",
    "warnings.filterwarnings(\"ignore\")"
   ]
  },
  {
   "cell_type": "markdown",
   "id": "atmospheric-therapist",
   "metadata": {},
   "source": [
    "# USPS dataset\n",
    "\n",
    "> USPS dataset, \"usps.h5\", is a _h5_ formated file and we us \"h5py\" package to load it. We assume it is saved in the current directory. Here, we load the train and test sets separately with their corresponding labels."
   ]
  },
  {
   "cell_type": "code",
   "execution_count": 2,
   "id": "representative-brooklyn",
   "metadata": {
    "ExecuteTime": {
     "end_time": "2021-05-29T14:02:26.785446Z",
     "start_time": "2021-05-29T14:02:26.694418Z"
    }
   },
   "outputs": [],
   "source": [
    "import h5py\n",
    "with h5py.File('usps.h5', 'r') as hf:\n",
    "        train = hf.get('train')\n",
    "        X_tr = train.get('data')[:]\n",
    "        y_tr = train.get('target')[:]\n",
    "        test = hf.get('test')\n",
    "        X_te = test.get('data')[:]\n",
    "        y_te = test.get('target')[:]"
   ]
  },
  {
   "cell_type": "markdown",
   "id": "julian-samoa",
   "metadata": {},
   "source": [
    "# Ones and sevens\n",
    "\n",
    "### 500 training, 125 testing\n",
    "\n",
    "> To test the accuracy of the following SNN classifier, the train and test set restricts to ones and sevens. In addition, similar to [[1]](https://arxiv.org/pdf/1910.01059.pdf), we use the first 500 cases from the train set and 125 cases from the test set. These choices allow us to compare the final accuracy with the reported one in [[1]](https://arxiv.org/pdf/1910.01059.pdf)."
   ]
  },
  {
   "cell_type": "code",
   "execution_count": 3,
   "id": "dense-dressing",
   "metadata": {
    "ExecuteTime": {
     "end_time": "2021-05-29T14:02:28.186654Z",
     "start_time": "2021-05-29T14:02:28.177476Z"
    }
   },
   "outputs": [],
   "source": [
    "# Restricted train set\n",
    "y2_tr = y_tr[(y_tr == 1) | (y_tr == 7)][:500]\n",
    "# Restricted train labels\n",
    "X2_tr = X_tr[(y_tr == 1) | (y_tr == 7),:][:500]\n",
    "# Restricted test set\n",
    "y2_te = y_te[(y_te == 1) | (y_te == 7)][:125]\n",
    "# Restricted test labels\n",
    "X2_te = X_te[(y_te == 1) | (y_te == 7),:][:125]"
   ]
  },
  {
   "cell_type": "markdown",
   "id": "driven-playing",
   "metadata": {},
   "source": [
    "# Global parameters"
   ]
  },
  {
   "cell_type": "code",
   "execution_count": 4,
   "id": "close-pathology",
   "metadata": {
    "ExecuteTime": {
     "end_time": "2021-05-29T14:02:29.851915Z",
     "start_time": "2021-05-29T14:02:29.847287Z"
    }
   },
   "outputs": [],
   "source": [
    "# Number of output neoruns\n",
    "neuron_numbers = 2\n",
    "# Number of basis in forward filter\n",
    "K = 12\n",
    "# Spikes maximum steps\n",
    "T = 32\n",
    "# Rate encoding in Hz\n",
    "Freq = 3\n",
    "# Train set size\n",
    "train_size = X2_tr.shape[0]\n",
    "# Number of pixels in an image\n",
    "image_size = X2_tr.shape[1]\n",
    "# Test set size\n",
    "test_size = X2_te.shape[0]"
   ]
  },
  {
   "cell_type": "markdown",
   "id": "bronze-latex",
   "metadata": {},
   "source": [
    "# Rate encoding\n",
    "\n",
    "> Before directly clamping the images to the network inputs, we encode the USPS dataset by using  the _rate encoding_, denotes as \"Freq\", and defined in the above cell. \n",
    "\n",
    "> Each gray pixel is converted into an input spiking signal by generating an independent identically distributed (i.i.d.) Bernoulli vector of T samples, with the spiking probability takes as proportional to the pixel intensity. Besides, the probability is limited to be between zero and 0.5."
   ]
  },
  {
   "cell_type": "code",
   "execution_count": 5,
   "id": "commercial-bankruptcy",
   "metadata": {
    "ExecuteTime": {
     "end_time": "2021-05-29T14:02:40.906381Z",
     "start_time": "2021-05-29T14:02:31.384194Z"
    }
   },
   "outputs": [],
   "source": [
    "# For each 16 x 16 image, we need a 256 x T array to fill it with an iid sampled vector\n",
    "trainset = np.zeros((train_size, image_size, T))\n",
    "train_y = np.zeros((neuron_numbers, train_size, T))\n",
    "\n",
    "for image_index in range(train_size):\n",
    "    ############################################################\n",
    "    #\n",
    "    #    Train set lables\n",
    "    #\n",
    "    # Note: 1) We fill the true labels with a frequency of spikes\n",
    "    #       denotes as Freq in Hz\n",
    "    #       2) False labels are zero arrays\n",
    "    if y2_tr[image_index] == 1:\n",
    "        train_y[0, image_index, :] = np.array([ 1 if(i%Freq==0) else 0 for i in range(0, T)])\n",
    "    else:\n",
    "        train_y[1, image_index, :] = np.array([ 1 if(i%Freq==0) else 0 for i in range(0, T)])\n",
    "    ############################################################\n",
    "    #\n",
    "    #    Train set images\n",
    "    #    \n",
    "    image = X2_tr[image_index,:]    \n",
    "    for pixel_index in range(image_size):\n",
    "        # For each pixel, the pixel intensity defines the sampling probability\n",
    "        # Note: Image intesity is divided by 2 to keep the probability in [0, 0.5]\n",
    "        trainset[image_index, pixel_index, :] = bernoulli.rvs(image[pixel_index]/2, size=T)        \n",
    "        \n",
    "testset = np.zeros((test_size, image_size, T))\n",
    "for image_index in range(test_size):\n",
    "    ############################################################\n",
    "    #\n",
    "    #    Test set images\n",
    "    #   \n",
    "    image = X2_te[image_index,:]\n",
    "    for pixel_index in range(image_size):\n",
    "        # For each pixel, the pixel intensity defines the sampling probability\n",
    "        # Note: Image intesity is divided by 2 to keep the probability in [0, 0.5]\n",
    "        testset[image_index, pixel_index, :] = bernoulli.rvs(image[pixel_index]/2, size=T)            "
   ]
  },
  {
   "cell_type": "markdown",
   "id": "earned-friendly",
   "metadata": {},
   "source": [
    "# Defining helper functions"
   ]
  },
  {
   "cell_type": "code",
   "execution_count": 6,
   "id": "exterior-platinum",
   "metadata": {
    "ExecuteTime": {
     "end_time": "2021-05-29T14:02:40.910646Z",
     "start_time": "2021-05-29T14:02:40.907801Z"
    }
   },
   "outputs": [],
   "source": [
    "def sigmoid(x):\n",
    "    return np.array(1/(1+np.exp(-x)))\n",
    "\n",
    "def convolution(f_t, g_t):\n",
    "    ''' See eq. (4) below\n",
    "    '''\n",
    "    return np.dot(f_t, g_t[::-1])"
   ]
  },
  {
   "cell_type": "markdown",
   "id": "retained-coral",
   "metadata": {},
   "source": [
    "# Filter Kernels"
   ]
  },
  {
   "cell_type": "markdown",
   "id": "lesbian-checkout",
   "metadata": {},
   "source": [
    "### Raised Cosine Kernels\n",
    "> We use the cosin basis that are explianed in [[3]\n",
    "](https://www.nature.com/articles/nature07140).\n",
    "\n",
    "> Note that the time domian is in logarithmic scale. So, \"this basis allows for the representation of fine temporal structure near the time of a spike and coarser/smoother dependency at later times\"[[3]](https://www.nature.com/articles/nature07140)"
   ]
  },
  {
   "cell_type": "code",
   "execution_count": 7,
   "id": "failing-peripheral",
   "metadata": {
    "ExecuteTime": {
     "end_time": "2021-05-29T14:02:40.918788Z",
     "start_time": "2021-05-29T14:02:40.912872Z"
    }
   },
   "outputs": [],
   "source": [
    "cosin_basis = np.zeros((K, T))\n",
    "for k in range(K):    \n",
    "    cosin_basis[k, :] = np.cos(np.log(-k/2 + 7*np.pi/6 + (2*np.arange(0, T)-T)*np.pi/(T)))\n",
    "    # Negative values replaces by zero\n",
    "    cosin_basis[k, cosin_basis[k, :] < 0 ] = 0    \n",
    "    # We make sure the support of the filter is one and only one segment\n",
    "    if k > 1 :\n",
    "        cosin_basis[k, :(k+4)] = 0\n",
    "    # Make sure there is non Nan in the array and replace them\n",
    "    # by zero\n",
    "    cosin_basis[k, :] = np.nan_to_num(cosin_basis[k, :])"
   ]
  },
  {
   "cell_type": "markdown",
   "id": "built-tolerance",
   "metadata": {},
   "source": [
    "# Feedback Exponential Kernel"
   ]
  },
  {
   "cell_type": "markdown",
   "id": "elegant-handy",
   "metadata": {},
   "source": [
    "> An exponential feedback filter, as it was explained in [[1]](https://arxiv.org/pdf/1910.01059.pdf),  controls the immediate capability of spiking of a neuron.  \n",
    "\n",
    "> Mathematically, it defines as $-\\exp(-t/t_m)$ where $t_m$ denotes the scale length for exponential decay along the time domain. Here, we take $t_m = T/8$, where $T = 32$ is the maximum time steps in the simulation.\n",
    "\n",
    "> Finally, the filter plot and its convolution with repect to a sequence of spikes are depicted."
   ]
  },
  {
   "cell_type": "code",
   "execution_count": 8,
   "id": "otherwise-folks",
   "metadata": {
    "ExecuteTime": {
     "end_time": "2021-05-29T14:02:40.926068Z",
     "start_time": "2021-05-29T14:02:40.921165Z"
    }
   },
   "outputs": [],
   "source": [
    "# Time scale\n",
    "T_m = T/8\n",
    "# Filter's array\n",
    "exp_basis = np.zeros(T)\n",
    "for t in range(T):\n",
    "    exp_basis[t] = -np.exp(-t/T_m)"
   ]
  },
  {
   "cell_type": "markdown",
   "id": "going-carolina",
   "metadata": {},
   "source": [
    "# NN topology: No Hidden Layer"
   ]
  },
  {
   "cell_type": "markdown",
   "id": "fifteen-calvin",
   "metadata": {},
   "source": [
    "> We add a feedback from the other neuron, to inhibit the neuron firing rate. The inhibition only happens for the time that one neuron is firing. This is useful for a classification problem. This is depicted schematically in the blow diagram."
   ]
  },
  {
   "cell_type": "markdown",
   "id": "authorized-catholic",
   "metadata": {},
   "source": [
    "![Network Diagram](./diagrams/network_draw_io_2.svg)"
   ]
  },
  {
   "cell_type": "markdown",
   "id": "worse-access",
   "metadata": {},
   "source": [
    "## Memberane potential, $u_{i, t}$ at time $t$:\n",
    "\n",
    "## $u_{i, t} = \\sum_{j \\in \\mathcal{P_j}} \\omega_{j, i} \\overrightarrow{s}_{j, t-1} + \\omega_i \\overleftarrow{s}_{i, t-1} + \\omega'_i \\overleftarrow{s}_{i+1, t-1} + \\gamma_i  \\;\\;\\;\\;\\;\\;\\;\\;\\;\\;\\;\\;\\;$ (1)         \n",
    "\n",
    "## where \n",
    "1. $\\mathcal{P_j}$ is the set of pre-synaptic inputs for the neuron $i$.\n",
    "2. $\\omega_{j, i}$  is the feedforward weight for the input $j$ to the neuron $i$.\n",
    "3. $\\omega_i$ is the feedback weight for the neuron $i$.\n",
    "4. $\\gamma_i$ is the bias parameter.\n",
    "5. $\\overrightarrow{s}_{j, t-1} = a_t * s_{j, t-1}$ for feedforward filter basis $a_t$ (2).\n",
    "6. $\\overleftarrow{s}_{i, t-1} = b_t * s_{j, t-1}$ for feedback filter basis $b_t$ (3).\n",
    "7. $f_t * g_t = \\sum_{\\delta \\ge 0} f_{\\delta} g_{t - \\delta}$ is a convolution operator (4)."
   ]
  },
  {
   "cell_type": "markdown",
   "id": "neutral-party",
   "metadata": {},
   "source": [
    "# Learning by Maximum log-likelihood estimation ([[1]](https://arxiv.org/pdf/1910.01059.pdf))"
   ]
  },
  {
   "cell_type": "markdown",
   "id": "promising-mailman",
   "metadata": {},
   "source": [
    "### Because of linearity of GLM, the gradiant of the log-liklihood w.r.t. parameter $\\boldsymbol{\\omega'_i}$ for neuron $i$ is similar to $\\boldsymbol{\\omega_i}$\n",
    "\n",
    "\n",
    "\n",
    "### $\\nabla_{\\omega'_{i,j}} \\log P_{\\boldsymbol{\\theta_i}}  (s_{i} | \\boldsymbol{s}_{\\mathcal{P}_{i} \\cup \\{i\\}, \\le t-1}) = \\overleftarrow{s}_{i+1, t-1}(s_{i,t} - \\sigma(u_{i+1, t})),   \\;\\;\\;\\;\\;\\;\\;\\;\\;\\;\\;\\;\\;$(9)\n",
    "\n"
   ]
  },
  {
   "cell_type": "markdown",
   "id": "objective-mounting",
   "metadata": {},
   "source": [
    "# Neuron Class:\n",
    "> This class is the same as the one defined in [Notebook 1](notebook.1.fully.obseverd.models.ipynb), except it includes the cross feedback from the second neuron. We do not implement the faster methods here."
   ]
  },
  {
   "cell_type": "code",
   "execution_count": 9,
   "id": "duplicate-rings",
   "metadata": {
    "ExecuteTime": {
     "end_time": "2021-05-29T14:02:47.510004Z",
     "start_time": "2021-05-29T14:02:47.486405Z"
    }
   },
   "outputs": [],
   "source": [
    "class Neuron:\n",
    "    def __init__(self, image_size, K, T, \n",
    "                 forward_basis, feedback_basis, cross_feedback_basis,\n",
    "                 prob_threshold = .5):\n",
    "        ''' Create a new instance of a Neuron object.\n",
    "        \n",
    "            image_size (integer): The size of an image array\n",
    "            K (integer): Number of forward filter basis.\n",
    "            T (integer): Maximum number of time steps\n",
    "            forward_basis (np array): Pre-synoptic filter basis\n",
    "            feedback_basis (np array): Post-synoptic filter basis\n",
    "            prob_threshold (default 0.5): \n",
    "                 The threshold above which the neuron\n",
    "                 fires and spike.                                   \n",
    "        '''\n",
    "        self.image_size = image_size\n",
    "        self.K = K\n",
    "        self.T = T\n",
    "        self.prob_threshold = prob_threshold\n",
    "        \n",
    "        if len(feedback_basis.shape) == 1:\n",
    "            self.feedbacks_K = 1\n",
    "        else:\n",
    "            self.feedbacks_K = K\n",
    "        \n",
    "        # Initialise weigths by sampling from Uniform(-1, 1)\n",
    "        self.synaptic_ws = np.random.uniform(-1, 1, (image_size,  K))\n",
    "        self.feedback_ws = np.random.uniform(-1, 1,  self.feedbacks_K)                    \n",
    "        self.cross_feedback_ws = np.random.uniform(-1, 1)\n",
    "        self.gamma = np.random.uniform(-1, 1)\n",
    "        # Store filter basis\n",
    "        self.forward_basis = forward_basis\n",
    "        self.feedback_basis = feedback_basis\n",
    "        self.cross_feedback_basis = cross_feedback_basis\n",
    "        # The inversion that is required for the convolusion is\n",
    "        # time consuming in each SGD step. So, we construct an inversed\n",
    "        # tensor now, and call it later, to achieve better performance \n",
    "        self.fast_forward_basis = np.zeros((K, T, T))\n",
    "        for k in range(K):\n",
    "            for t in range(1, T+1):\n",
    "                segment = forward_basis[k, :t]\n",
    "                self.fast_forward_basis[k, t-1, :t] = segment[::-1]\n",
    "        #############################################\n",
    "        # Internal states      \n",
    "        #\n",
    "        \n",
    "        # This matrix stores $s_{j, t-1}$ in eq. (2)\n",
    "        self.s_forward_t_1_s = np.zeros((image_size, K))\n",
    "        # This value/array stores $s_{j, t-1}$ in eq. (3)\n",
    "        if self.feedbacks_K == 1:\n",
    "            self.s_feedback_t_1_s = np.zeros(1)        \n",
    "        else:\n",
    "            self.s_feedback_t_1_s = np.zeros(self.feedbacks_K) \n",
    "        # Previous spikes             \n",
    "        self.previous_spikes = np.zeros(self.T +1)\n",
    "        \n",
    "        \n",
    "           \n",
    "    def output(self, image, t, cross_spikes_t_1):\n",
    "        ''' This method returns the membrane potential\n",
    "            and changes the internal states of the neuron.\n",
    "            \n",
    "            Note: This method is for demonstration only. No performance\n",
    "                  consideration is included here.\n",
    "            \n",
    "            image (np array (image_size x T)): The encoded image matrix\n",
    "            t (integer): Time is zero based, so, t referes to the current\n",
    "                         time and must start from 1.\n",
    "            , cross_spikes_t_1 (np array (t-1)): The other neorun spikes\n",
    "        '''        \n",
    "        # loop over filter basis\n",
    "        for k in range(self.K):\n",
    "            # loop over the pixels\n",
    "            for j in range(self.image_size):\n",
    "                spikes = image[j, :t]                    \n",
    "                # contribution from j input                                          \n",
    "                # Convolution, see eq. (2)\n",
    "                self.s_forward_t_1_s[j, k] = convolution(self.forward_basis[k, :t], spikes)\n",
    "                # Check the validity of the outputs\n",
    "                if np.isnan(self.s_forward_t_1_s[j, k]):\n",
    "                    print(f\"NAN s_forward i={self.i}, j={j}, k={k}\")\n",
    "                    raise ValueError\n",
    "                if np.isinf(self.s_forward_t_1_s[j, k]):\n",
    "                    print(f\"Inf s_forward i={self.i}, j={j}, k={k}\")\n",
    "                    raise ValueError\n",
    "                    \n",
    "            # At time t = 1, we take the previous spike as zero\n",
    "            # So, the feedback is zero too.\n",
    "            if self.feedbacks_K > 1:\n",
    "                # Feedback contribution\n",
    "                # The array previous_spikes contains the history of pulses that\n",
    "                # has been emitted from the neorun.\n",
    "                # Convolution, see eq. (3)\n",
    "                self.s_feedback_t_1_s[k] = convolution(self.feedback_basis[k, :t], self.previous_spikes[:t])  \n",
    "        \n",
    "        # At time t = 1, we take the previous spike as zero\n",
    "        # So, the feedback is zero too.                        \n",
    "        if self.feedbacks_K ==1:\n",
    "            # Feedback contribution\n",
    "            # The array previous_spikes contains the history of pulses that\n",
    "            # has been emitted from the neorun.\n",
    "            # Convolution, see eq. (1) \n",
    "            self.s_feedback_t_1_s = convolution(self.feedback_basis[:t], self.previous_spikes[:t]) \n",
    "            \n",
    "        #######################################\n",
    "        #\n",
    "        # Cross feedback contribution\n",
    "        #\n",
    "        self.s_cross_feedback_t_1_s = convolution(self.cross_feedback_basis[:t], cross_spikes_t_1) \n",
    "            \n",
    "        # Calculating membrane potential\n",
    "        # This is the sum of contributions from\n",
    "        # inputes, feedback and bias.\n",
    "        # See eq. (1)\n",
    "        u_i = (\n",
    "               np.sum(self.synaptic_ws*self.s_forward_t_1_s)\n",
    "             + np.sum(self.feedback_ws*self.s_feedback_t_1_s) \n",
    "             + self.cross_feedback_ws*self.s_cross_feedback_t_1_s\n",
    "             + self.gamma\n",
    "        )\n",
    "        # Check the validity of u_i\n",
    "        if np.isinf(u_i):\n",
    "            print(f\"Inf u_i i={self.i}\")\n",
    "            raise ValueError \n",
    "        \n",
    "        # According to the value of sigmoid(u_i) and spike threshold,\n",
    "        # the neuron fires. We store this internal state in  previous_spikes array.\n",
    "        # In the next time step, we use it to find the convolution of the feedback signal.\n",
    "        self.previous_spikes[t] = 1 if sigmoid(u_i) >= self.prob_threshold else 0\n",
    "           \n",
    "        return (u_i, self.previous_spikes[:(t+1)])\n",
    "    \n",
    "    def gradiant(self, s_i, image, t, cross_spikes_t_1):\n",
    "        ''' The gradiant method moves the internal state\n",
    "            one step forward, while it returns the gradiants\n",
    "            with respect the weights\n",
    "            \n",
    "            s_i (0 or 1): the true label at time t.\n",
    "            image (np array (image_size x T)): The encoded image matrix\n",
    "            t (integer): Time is zero based, so, t referes to the current\n",
    "                         time and must start from 1. \n",
    "        '''\n",
    "        # Eq. (6)        \n",
    "        u_i, spikes = self.output(image, t, cross_spikes_t_1)\n",
    "        diff = s_i - sigmoid(u_i)          \n",
    "        g_bias = diff            \n",
    "        # Eq. (7)\n",
    "        g_synaptic_ws = self.s_forward_t_1_s*diff        \n",
    "        # Eq. (8)\n",
    "        g_feedback_ws = self.s_feedback_t_1_s*diff\n",
    "        # \n",
    "        g_cross_feedback_ws = self.s_cross_feedback_t_1_s*diff\n",
    "        \n",
    "        return (g_bias, g_synaptic_ws, g_feedback_ws, g_cross_feedback_ws, spikes)\n",
    "    \n",
    "    def memb(self, image):\n",
    "        ''' Returns neorun's membrane potential for \n",
    "            all time steps.\n",
    "            \n",
    "            image (np array (image_size x T)): The encoded image matrix\n",
    "        '''\n",
    "        self.previous_spikes = np.zeros(self.T +1)\n",
    "        return np.array([self.output(image, t) for t in range(1, self.T)])\n",
    "    \n",
    "    def probs(self, image): \n",
    "        ''' Returns neorun's probability of firing an spike for \n",
    "            all time steps.\n",
    "            \n",
    "            image (np array (image_size x T)): The encoded image matrix\n",
    "        '''\n",
    "        return sigmoid(self.memb(image))\n",
    "    \n",
    "    def spikes(self, image):\n",
    "        ''' Returns neorun's spikes for \n",
    "            all time steps.\n",
    "            \n",
    "            image (np array (image_size x T)): The encoded image matrix\n",
    "        '''\n",
    "        return np.where(self.probs(image) >= self.prob_threshold, 1, 0)\n",
    "    \n",
    "    "
   ]
  },
  {
   "cell_type": "markdown",
   "id": "functioning-farmer",
   "metadata": {},
   "source": [
    "# Helper method\n",
    "\n",
    "> The following method simplifies the instantiation of a neuron class."
   ]
  },
  {
   "cell_type": "code",
   "execution_count": 10,
   "id": "adverse-vector",
   "metadata": {
    "ExecuteTime": {
     "end_time": "2021-05-29T14:02:49.724171Z",
     "start_time": "2021-05-29T14:02:49.716914Z"
    }
   },
   "outputs": [],
   "source": [
    "def init_ws(image_size, K, T, cosin_feedback = True, seed=44):\n",
    "    if seed is not None:\n",
    "        np.random.seed(seed)    \n",
    "    \n",
    "    def init_neuron_cosine(i):\n",
    "        '''Create a single neuron with\n",
    "           inversed cosin basis for feedback\n",
    "        '''\n",
    "        return Neuron(image_size, K, T, \n",
    "                      cosin_basis, -cosin_basis, exp_basis)\n",
    "    \n",
    "    def init_neuron_exp(i):\n",
    "        '''Create a single neuron with\n",
    "           exp basis for feedback\n",
    "        '''\n",
    "        return Neuron(image_size, K, T, \n",
    "                      cosin_basis, exp_basis, exp_basis)\n",
    "    if cosin_feedback:\n",
    "        return init_neuron_cosine\n",
    "    else:\n",
    "        return init_neuron_exp\n",
    "\n"
   ]
  },
  {
   "cell_type": "markdown",
   "id": "powerful-reality",
   "metadata": {},
   "source": [
    "# Now, we overfit the model for a single image\n",
    "\n",
    "> To check the code and its overal behaviour, it is usefull to overfit the model for a single image. Training the model for a long enough epoch results in an overfitted model that must reproduce the exact output similar to the true label in the training phase.\n",
    "\n",
    "> The result is a kind of assurance that every bits and pieces of the code works properly and smoothly."
   ]
  },
  {
   "cell_type": "code",
   "execution_count": 11,
   "id": "organic-northeast",
   "metadata": {
    "ExecuteTime": {
     "end_time": "2021-05-29T14:10:31.215657Z",
     "start_time": "2021-05-29T14:02:54.514136Z"
    }
   },
   "outputs": [],
   "source": [
    "init_neuron = init_ws(image_size, K, T, cosin_feedback = False, seed=43)\n",
    "\n",
    "\n",
    "image_index = 0\n",
    "\n",
    "image = trainset[image_index, :, :]         \n",
    "label = train_y[:, image_index, :] \n",
    "\n",
    "eta = 0.5\n",
    "max_epoch = 400\n",
    "Error_S = np.zeros((2, max_epoch))\n",
    "network = [None, None]\n",
    "\n",
    "neuron1 = init_neuron(0)\n",
    "network[0] = neuron1\n",
    "neuron2 = init_neuron(1)\n",
    "network[1] = neuron2\n",
    "\n",
    "\n",
    "for epo in range(max_epoch):\n",
    "    \n",
    "    spikes = [[0], [0]]\n",
    "    \n",
    "    for t in range(1, T):\n",
    "        if t == 1:\n",
    "            g_bias_1, g_synaptic_ws_1, g_feedback_ws_1, g_cross_feedback_ws_1, spikes_1 =  neuron1.gradiant(label[0, t-1], image, t, spikes[1])\n",
    "        \n",
    "            g_bias_2, g_synaptic_ws_2, g_feedback_ws_2, g_cross_feedback_ws_2, spikes_2 =  neuron2.gradiant(label[1, t-1], image, t, spikes[0])\n",
    "        else:\n",
    "            g_bias_12, g_synaptic_ws_12, g_feedback_ws_12, g_cross_feedback_ws_12, spikes_1 =  neuron1.gradiant(label[0, t-1], image, t, spikes[1])\n",
    "            g_bias_1 += g_bias_12\n",
    "            g_synaptic_ws_1 += g_synaptic_ws_12\n",
    "            g_feedback_ws_1 += g_feedback_ws_12\n",
    "            g_cross_feedback_ws_1 += g_cross_feedback_ws_12\n",
    "            g_bias_22, g_synaptic_ws_22, g_feedback_ws_22, g_cross_feedback_ws_22, spikes_2 =  neuron2.gradiant(label[1, t-1], image, t, spikes[0])\n",
    "            g_bias_2 += g_bias_22\n",
    "            g_synaptic_ws_2 += g_synaptic_ws_22\n",
    "            g_feedback_ws_2 += g_feedback_ws_22\n",
    "            g_cross_feedback_ws_2 += g_cross_feedback_ws_22\n",
    "        \n",
    "        spikes = [spikes_1, spikes_2]\n",
    "\n",
    "        Error_S[0, epo] += np.sum(g_bias_1**2)        \n",
    "        Error_S[1, epo] += np.sum(g_bias_2**2)\n",
    "        \n",
    "    neuron1.gamma += eta*g_bias_1/(epo+1)\n",
    "    neuron1.synaptic_ws += eta*g_synaptic_ws_1/(epo+1)\n",
    "    neuron1.feedback_ws += eta*g_feedback_ws_1/(epo+1) \n",
    "    neuron1.cross_feedback_ws += eta*g_cross_feedback_ws_1/(epo+1) \n",
    "\n",
    "    neuron2.gamma += eta*g_bias_2/(epo+1)\n",
    "    neuron2.synaptic_ws += eta*g_synaptic_ws_2/(epo+1)\n",
    "    neuron2.feedback_ws += eta*g_feedback_ws_2/(epo+1) \n",
    "    neuron2.cross_feedback_ws += eta*g_cross_feedback_ws_2/(epo+1) \n",
    "\n",
    "  \n",
    "                "
   ]
  },
  {
   "cell_type": "markdown",
   "id": "practical-princeton",
   "metadata": {},
   "source": [
    "# Check the output of the trained model\n",
    "\n",
    "> We feed the signle image that we used to train the model, for demonstration purpose (It never happens in real modelling). We expect to get the same rate encoding frequecny for the true case and zero for the false one"
   ]
  },
  {
   "cell_type": "code",
   "execution_count": 12,
   "id": "worldwide-asset",
   "metadata": {
    "ExecuteTime": {
     "end_time": "2021-05-29T14:10:38.916983Z",
     "start_time": "2021-05-29T14:10:38.909253Z"
    }
   },
   "outputs": [],
   "source": [
    "def spikes_output(image, n1, n2):\n",
    "    spikes = [[0], [0]]\n",
    "    \n",
    "    for t in range(1, T):\n",
    "        _ , spikes_1 = n1.output(image, t, spikes[1])\n",
    "        _ , spikes_2 = n2.output(image, t, spikes[0])\n",
    "        \n",
    "        spikes = [spikes_1, spikes_2]\n",
    "    return (spikes[0], spikes[1])"
   ]
  },
  {
   "cell_type": "code",
   "execution_count": 13,
   "id": "sacred-british",
   "metadata": {
    "ExecuteTime": {
     "end_time": "2021-05-29T14:10:42.224896Z",
     "start_time": "2021-05-29T14:10:41.014617Z"
    }
   },
   "outputs": [
    {
     "name": "stdout",
     "output_type": "stream",
     "text": [
      "Label: 7, so the second neuron predicts the True rate.\n",
      "The rate encoding that we used for first : 0.000\n",
      "The rate encoding that we used to train the model: 0.333\n",
      "The moving average rate encoding of the first neuron output: 0.000\n",
      "The moving average rate encoding of the second neuron output: 0.333\n",
      "The average rate encoding of the first neuron output: 0.000\n",
      "The average rate encoding of the second neuron output: 0.344\n"
     ]
    }
   ],
   "source": [
    "def moving_average(x, w):\n",
    "    return np.convolve(x, np.ones(w), 'valid') / w\n",
    "\n",
    "str_first = \"first\"\n",
    "str_second = \"second\"\n",
    "print(f\"Label: {y2_tr[image_index]}, so the { str_first if(y2_tr[image_index] == 1) else str_second}\" \n",
    "      f\" neuron predicts the True rate.\")\n",
    "#print(f\"The rate encoding that we used for training model: {(1/p):.3f}\")\n",
    "print(f\"The rate encoding that we used for first : {np.mean(moving_average(label[0,:], Freq)):.3f}\")\n",
    "print(f\"The rate encoding that we used to train the model: {np.mean(moving_average(label[1,:], Freq)):.3f}\")\n",
    "\n",
    "n1 = network[0]\n",
    "n2 = network[1]\n",
    "\n",
    "\n",
    "n1_spikes, n2_spikes = spikes_output(image, n1, n2)\n",
    "\n",
    "n1_pred = np.sum(n1_spikes)/len(n1_spikes)\n",
    "n2_pred = np.sum(n2_spikes)/len(n2_spikes)\n",
    "\n",
    "print(f\"The moving average rate encoding of the first neuron output: {np.mean(moving_average(n1_spikes, Freq)):.3f}\")\n",
    "print(f\"The moving average rate encoding of the second neuron output: {np.mean(moving_average(n2_spikes, Freq)):.3f}\")\n",
    "\n",
    "print(f\"The average rate encoding of the first neuron output: {n1_pred:.3f}\")\n",
    "print(f\"The average rate encoding of the second neuron output: {n2_pred:.3f}\")"
   ]
  },
  {
   "cell_type": "markdown",
   "id": "aerial-tradition",
   "metadata": {},
   "source": [
    "# Global error during the learning "
   ]
  },
  {
   "cell_type": "code",
   "execution_count": 14,
   "id": "bronze-buyer",
   "metadata": {
    "ExecuteTime": {
     "end_time": "2021-05-29T14:10:45.227985Z",
     "start_time": "2021-05-29T14:10:44.896575Z"
    }
   },
   "outputs": [
    {
     "data": {
      "image/png": "[encoded data removed]",
      "text/plain": [
       "<Figure size 1008x288 with 2 Axes>"
      ]
     },
     "metadata": {
      "needs_background": "light"
     },
     "output_type": "display_data"
    }
   ],
   "source": [
    "fig = plt.figure(figsize=(14, 4))\n",
    "plt.subplot(121)\n",
    "plt.plot(np.sqrt(Error_S[0,:]))\n",
    "plt.plot(np.sqrt(Error_S[1,:]))\n",
    "plt.xlabel(\"Epoch\")\n",
    "plt.ylabel(\"Root Square Error\")\n",
    "plt.grid()\n",
    "plt.subplot(122)\n",
    "plt.plot(np.sqrt(Error_S[0,300:]))\n",
    "plt.plot(np.sqrt(Error_S[1,300:]))\n",
    "plt.xlabel(\"Epoch\")\n",
    "plt.ylabel(\"Root Square Error\")\n",
    "plt.xticks(ticks=[i*20  for i in range(6)] , labels=[i*20 + 300 for i in range(6)])\n",
    "plt.grid()\n",
    "plt.show()"
   ]
  },
  {
   "cell_type": "markdown",
   "id": "mental-romance",
   "metadata": {},
   "source": [
    "# Spike outputs\n",
    "\n",
    "> And the outputs of the neurons."
   ]
  },
  {
   "cell_type": "code",
   "execution_count": 15,
   "id": "random-mobile",
   "metadata": {
    "ExecuteTime": {
     "end_time": "2021-05-29T14:10:50.853050Z",
     "start_time": "2021-05-29T14:10:49.677155Z"
    }
   },
   "outputs": [
    {
     "data": {
      "image/png": "[encoded data removed]",
      "text/plain": [
       "<Figure size 432x288 with 1 Axes>"
      ]
     },
     "metadata": {
      "needs_background": "light"
     },
     "output_type": "display_data"
    }
   ],
   "source": [
    "n1 = network[0]\n",
    "n2 = network[1]\n",
    "\n",
    "n1_spikes, n2_spikes = spikes_output(image, n1, n2)\n",
    "\n",
    "plt.plot(n1_spikes)\n",
    "plt.plot(n2_spikes)\n",
    "plt.ylabel(\"Spikes\")\n",
    "plt.xlabel(\"t\")\n",
    "plt.grid()\n",
    "plt.show()\n"
   ]
  },
  {
   "cell_type": "markdown",
   "id": "imposed-listening",
   "metadata": {},
   "source": [
    "# Reference \n",
    "\n",
    "### An Introduction to Probabilistic Spiking Neural Networks: [[1]](https://arxiv.org/pdf/1910.01059.pdf)\n",
    "\n",
    "### USPS dataset: [[2]](https://www.kaggle.com/bistaumanga/usps-dataset)\n",
    "\n",
    "### Spatio-temporal correlations and visual signalling in a complete neuronal population: [[3]](https://www.nature.com/articles/nature07140)"
   ]
  },
  {
   "cell_type": "code",
   "execution_count": null,
   "id": "classical-relaxation",
   "metadata": {},
   "outputs": [],
   "source": []
  }
 ],
 "metadata": {
  "kernelspec": {
   "display_name": "Python 3",
   "language": "python",
   "name": "python3"
  },
  "language_info": {
   "codemirror_mode": {
    "name": "ipython",
    "version": 3
   },
   "file_extension": ".py",
   "mimetype": "text/x-python",
   "name": "python",
   "nbconvert_exporter": "python",
   "pygments_lexer": "ipython3",
   "version": "3.8.5"
  }
 },
 "nbformat": 4,
 "nbformat_minor": 5
}
